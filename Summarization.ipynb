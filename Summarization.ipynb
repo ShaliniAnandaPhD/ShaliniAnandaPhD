{
  "nbformat": 4,
  "nbformat_minor": 0,
  "metadata": {
    "colab": {
      "provenance": [],
      "authorship_tag": "ABX9TyNrttkuHt0dE2kV6D1u1Lus",
      "include_colab_link": true
    },
    "kernelspec": {
      "name": "python3",
      "display_name": "Python 3"
    },
    "language_info": {
      "name": "python"
    }
  },
  "cells": [
    {
      "cell_type": "markdown",
      "metadata": {
        "id": "view-in-github",
        "colab_type": "text"
      },
      "source": [
        "<a href=\"https://colab.research.google.com/github/ShaliniAnandaPhD/ShaliniAnandaPhD/blob/main/Summarization.ipynb\" target=\"_parent\"><img src=\"https://colab.research.google.com/assets/colab-badge.svg\" alt=\"Open In Colab\"/></a>"
      ]
    },
    {
      "cell_type": "code",
      "execution_count": 7,
      "metadata": {
        "colab": {
          "base_uri": "https://localhost:8080/"
        },
        "id": "MX2d0dRVeOMb",
        "outputId": "8a766fc3-75de-4cca-9434-ae2568413d46"
      },
      "outputs": [
        {
          "output_type": "stream",
          "name": "stdout",
          "text": [
            "Chemistry is the scientific study of the properties and behavior of matter. It is a natural science that covers a wide range of topics such as the composition, structure, properties, and reactions of substances. Some key areas of study in chemistry include organic chemistry, which focuses on the structure, properties, and reactions of organic compounds containing carbon; inorganic chemistry, which deals with non-organic compounds; physical chemistry, which uses physics to study chemical systems; analytical chemistry, which separates, identifies, and quantifies matter; and biochemistry, which studies the chemistry of biological processes. Chemistry plays a crucial role in fields like medicine, energy, manufacturing, and agriculture. Most chemical processes can be studied directly in a laboratory by conducting experiments. Chemists use an extensive array of tools such as beakers, Bunsen burners, test tubes, thermometers, and scales. Common laboratory techniques include qualitative analysis, which identifies a substance's composition, and quantitative analysis, which determines amounts of substances. Groundbreaking work in chemistry has been honored with Nobel Prizes awarded to chemists like Marie Curie, Linus Pauling, and Frances Arnold.\n"
          ]
        },
        {
          "output_type": "stream",
          "name": "stderr",
          "text": [
            "[nltk_data] Downloading package punkt to /root/nltk_data...\n",
            "[nltk_data]   Package punkt is already up-to-date!\n",
            "[nltk_data] Downloading package stopwords to /root/nltk_data...\n",
            "[nltk_data]   Package stopwords is already up-to-date!\n"
          ]
        }
      ],
      "source": [
        "import nltk\n",
        "from nltk.corpus import stopwords\n",
        "from nltk.tokenize import sent_tokenize, word_tokenize\n",
        "from string import punctuation\n",
        "nltk.download('punkt')\n",
        "nltk.download('stopwords')\n",
        "# Input paragraph\n",
        "text = \"Chemistry is the scientific study of the properties and behavior of matter. It is a natural science that covers a wide range of topics such as the composition, structure, properties, and reactions of substances. Some key areas of study in chemistry include organic chemistry, which focuses on the structure, properties, and reactions of organic compounds containing carbon; inorganic chemistry, which deals with non-organic compounds; physical chemistry, which uses physics to study chemical systems; analytical chemistry, which separates, identifies, and quantifies matter; and biochemistry, which studies the chemistry of biological processes. Chemistry plays a crucial role in fields like medicine, energy, manufacturing, and agriculture. Most chemical processes can be studied directly in a laboratory by conducting experiments. Chemists use an extensive array of tools such as beakers, Bunsen burners, test tubes, thermometers, and scales. Common laboratory techniques include qualitative analysis, which identifies a substance's composition, and quantitative analysis, which determines amounts of substances. Groundbreaking work in chemistry has been honored with Nobel Prizes awarded to chemists like Marie Curie, Linus Pauling, and Frances Arnold.\"\n",
        "\n",
        "# Tokenize sentences\n",
        "sentences = sent_tokenize(text)\n",
        "\n",
        "# Stopwords and punctuation to ignore\n",
        "ignore = set(stopwords.words('english') + list(punctuation))\n",
        "\n",
        "# Word frequencies across all sentences\n",
        "word_frequencies = {}\n",
        "for sentence in sentences:\n",
        "    word_tokens = word_tokenize(sentence)\n",
        "    for word in word_tokens:\n",
        "        if word not in ignore:\n",
        "            if word not in word_frequencies.keys():\n",
        "                word_frequencies[word] = 1\n",
        "            else:\n",
        "                word_frequencies[word] += 1\n",
        "\n",
        "# Score each sentence\n",
        "max_frequency= max(word_frequencies.values())\n",
        "for word in word_frequencies.keys():\n",
        "    word_frequencies[word] = word_frequencies[word]/max_frequency\n",
        "sentence_scores = {}\n",
        "for sent in sentences:\n",
        "    sentence_tokens = word_tokenize(sent)\n",
        "    score = 0\n",
        "    for word in sentence_tokens:\n",
        "        if word in word_frequencies.keys():\n",
        "            score += word_frequencies[word]\n",
        "    sentence_scores[sent] = score\n",
        "\n",
        "# Output summary sentences in order\n",
        "summary = []\n",
        "threshold = 0.8\n",
        "for sentence in sentences:\n",
        "    if sentence in sentence_scores and sentence_scores[sentence] > threshold:\n",
        "        summary.append(sentence)\n",
        "\n",
        "print(\" \".join(summary))"
      ]
    }
  ]
}